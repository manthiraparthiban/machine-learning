{
 "cells": [
  {
   "cell_type": "code",
   "execution_count": 1,
   "metadata": {},
   "outputs": [],
   "source": [
    "import numpy as np"
   ]
  },
  {
   "cell_type": "code",
   "execution_count": 2,
   "metadata": {},
   "outputs": [
    {
     "data": {
      "text/plain": [
       "0.9897692307692308"
      ]
     },
     "execution_count": 2,
     "metadata": {},
     "output_type": "execute_result"
    }
   ],
   "source": [
    "res = np.array([ 0.984,  0.988,  0.984,  0.987,  0.976,  0.997,  0.993,  0.985,\n",
    "                 1.002,  0.987,  1.005,  0.993,  0.987,  0.992,  0.976,  0.998,\n",
    "                 1.011,  0.971,  0.981,  1.008,  0.963,  0.992,  0.995,  0.99 ,\n",
    "                 0.996,  0.99 ,  0.985,  0.997,  0.983,  0.981,  0.988,  0.991,\n",
    "                 0.971,  0.982,  0.979,  1.008,  1.006,  1.006,  1.001,  0.999,\n",
    "                 0.98 ,  0.996,  0.979,  1.009,  0.99 ,  0.996,  1.001,  0.981,\n",
    "                 0.99 ,  0.987,  0.97 ,  0.992,  0.982,  0.983,  0.974,  0.999,\n",
    "                 0.987,  1.002,  0.971,  0.982,  0.989,  0.985,  1.014,  0.991,\n",
    "                 0.984,  0.992,  1.003,  0.985,  0.987,  0.985,  1.   ,  0.978,\n",
    "                 0.99 ,  0.99 ,  0.985,  0.983,  0.981,  0.993,  0.993,  0.973,\n",
    "                 1.   ,  0.982,  0.987,  0.988,  0.982,  0.978,  0.989,  1.   ,\n",
    "                 0.983,  1.008,  0.997,  0.974,  0.988,  1.002,  0.988,  0.994,\n",
    "                 0.991,  1.   ,  0.976,  0.987,  0.991,  1.010,  0.999,  1.002])\n",
    "res.mean()"
   ]
  },
  {
   "cell_type": "code",
   "execution_count": 5,
   "metadata": {},
   "outputs": [],
   "source": [
    "from statsmodels.stats.weightstats import _tconfint_generic    # Computes confidence intervals"
   ]
  },
  {
   "cell_type": "code",
   "execution_count": 6,
   "metadata": {},
   "outputs": [
    {
     "data": {
      "text/plain": [
       "(0.9877736770045356, 0.9917647845339261)"
      ]
     },
     "execution_count": 6,
     "metadata": {},
     "output_type": "execute_result"
    }
   ],
   "source": [
    "_tconfint_generic(mean=res.mean(),    # The mean of the data\n",
    "                  std_mean=res.std()/np.sqrt(len(res)),    # The standard deviation of the MEAN (s/sqrt(n))\n",
    "                  dof=len(res) - 1,    # The degrees of freedom (n - 1)\n",
    "                  alpha=(1 - 0.95),    # 1 minus the confidence level\n",
    "                  alternative=\"two-sided\")"
   ]
  },
  {
   "cell_type": "code",
   "execution_count": 7,
   "metadata": {},
   "outputs": [],
   "source": [
    "from statsmodels.stats.weightstats import _tstat_generic"
   ]
  },
  {
   "cell_type": "code",
   "execution_count": 8,
   "metadata": {},
   "outputs": [
    {
     "data": {
      "text/plain": [
       "(-10.167763027563376, 1.566340927584771e-17)"
      ]
     },
     "execution_count": 8,
     "metadata": {},
     "output_type": "execute_result"
    }
   ],
   "source": [
    "_tstat_generic(value1=res.mean(),    # The mean of the dataset\n",
    "               value2=0,\n",
    "               diff=1,    # The mean under the null hypothesis\n",
    "               std_diff=res.std()/np.sqrt(len(res)),    # The standard deviation of the mean\n",
    "               dof=len(res) - 1,    # The degrees of freedom\n",
    "               alternative=\"smaller\")    # The direction of the alternative (the true mean is SMALLER than 1)"
   ]
  },
  {
   "cell_type": "code",
   "execution_count": 9,
   "metadata": {},
   "outputs": [],
   "source": [
    "res_A = np.array([ 1.002,  1.001,  1.   ,  0.999,  0.998,  1.   ,  1.001,  0.999,\n",
    "                   1.002,  0.998,  1.   ,  0.998,  1.001,  1.001,  1.002,  0.997,\n",
    "                   1.001,  1.   ,  1.001,  0.999,  0.998,  0.998,  1.002,  1.002,\n",
    "                   0.996,  0.998,  0.997,  1.001,  1.002,  0.997,  1.   ,  1.   ,\n",
    "                   0.998,  0.997])\n",
    "\n",
    "res_B = np.array([ 0.995,  1.022,  0.993,  1.014,  0.998,  0.99 ,  0.998,  0.998,\n",
    "                   0.99 ,  1.003,  1.016,  0.992,  1.   ,  1.002,  1.003,  1.005,\n",
    "                   0.979,  1.012,  0.978,  1.01 ,  1.001,  1.026,  1.011,  1.   ,\n",
    "                   0.98 ,  0.993,  1.016,  0.991,  0.986,  0.987,  1.012,  0.996,\n",
    "                   1.013,  1.001,  0.984,  1.011,  1.01 ,  1.   ,  1.001])"
   ]
  },
  {
   "cell_type": "code",
   "execution_count": 10,
   "metadata": {},
   "outputs": [],
   "source": [
    "from statsmodels.stats.weightstats import ttest_ind"
   ]
  },
  {
   "cell_type": "code",
   "execution_count": 11,
   "metadata": {},
   "outputs": [
    {
     "data": {
      "text/plain": [
       "(-0.4442926812820534, 0.6592217943569274, 40.062908701724936)"
      ]
     },
     "execution_count": 11,
     "metadata": {},
     "output_type": "execute_result"
    }
   ],
   "source": [
    "ttest_ind(res_A, res_B,    # The datasets\n",
    "          alternative=\"two-sided\",\n",
    "          usevar=\"unequal\")"
   ]
  },
  {
   "cell_type": "code",
   "execution_count": 12,
   "metadata": {},
   "outputs": [],
   "source": [
    "res_C = np.array([ 1.005,  1.012,  1.003,  0.993,  0.998,  1.002,  1.002,  0.996,\n",
    "                   0.999,  1.004,  1.006,  1.007,  0.991,  1.011,  1.   ,  1.   ,\n",
    "                   1.005,  1.   ,  0.995,  0.995,  1.002,  1.002,  0.991,  1.003,\n",
    "                   0.997,  0.994,  0.995,  1.   ,  1.001,  1.005,  0.992,  0.999,\n",
    "                   0.999,  1.002,  1.   ,  0.994,  1.001,  1.007,  1.003,  0.993])\n",
    "\n",
    "res_D = np.array([ 1.006,  0.996,  0.986,  1.004,  1.004,  1.   ,  1.   ,  0.993,\n",
    "                   0.991,  0.992,  0.989,  0.996,  1.   ,  0.996,  1.001,  0.989,\n",
    "                   1.   ,  1.004,  0.997,  0.99 ,  0.998,  0.994,  0.991,  0.995,\n",
    "                   1.002,  0.997,  0.998,  0.99 ,  0.996,  0.994,  0.988,  0.996,\n",
    "                   0.998])\n",
    "\n",
    "res_E = np.array([ 1.009,  0.999,  0.995,  1.008,  0.998,  1.001,  1.001,  1.001,\n",
    "                   0.993,  0.992,  1.007,  1.005,  0.997,  1.   ,  1.   ,  1.   ,\n",
    "                   0.996,  1.005,  0.997,  1.013,  1.002,  1.006,  1.004,  1.002,\n",
    "                   1.001,  0.999,  1.001,  1.004,  0.994,  0.999,  0.997,  1.004,\n",
    "                   0.996])"
   ]
  },
  {
   "cell_type": "code",
   "execution_count": 13,
   "metadata": {},
   "outputs": [],
   "source": [
    "from scipy.stats import f_oneway"
   ]
  },
  {
   "cell_type": "code",
   "execution_count": 14,
   "metadata": {},
   "outputs": [
    {
     "data": {
      "text/plain": [
       "F_onewayResult(statistic=2.6539731195650056, pvalue=0.03473143851921515)"
      ]
     },
     "execution_count": 14,
     "metadata": {},
     "output_type": "execute_result"
    }
   ],
   "source": [
    "f_oneway(res_A, res_B, res_C, res_D, res_E)"
   ]
  },
  {
   "cell_type": "code",
   "execution_count": null,
   "metadata": {},
   "outputs": [],
   "source": []
  }
 ],
 "metadata": {
  "kernelspec": {
   "display_name": "Python 3",
   "language": "python",
   "name": "python3"
  },
  "language_info": {
   "codemirror_mode": {
    "name": "ipython",
    "version": 3
   },
   "file_extension": ".py",
   "mimetype": "text/x-python",
   "name": "python",
   "nbconvert_exporter": "python",
   "pygments_lexer": "ipython3",
   "version": "3.7.3"
  }
 },
 "nbformat": 4,
 "nbformat_minor": 2
}
