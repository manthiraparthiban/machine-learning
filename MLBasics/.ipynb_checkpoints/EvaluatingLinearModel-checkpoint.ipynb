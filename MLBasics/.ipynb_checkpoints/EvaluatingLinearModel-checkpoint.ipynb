{
 "cells": [
  {
   "cell_type": "code",
   "execution_count": 1,
   "metadata": {},
   "outputs": [],
   "source": [
    "from sklearn.datasets import load_boston\n",
    "from sklearn.model_selection import train_test_split"
   ]
  },
  {
   "cell_type": "code",
   "execution_count": 2,
   "metadata": {},
   "outputs": [],
   "source": [
    "boston_obj = load_boston()\n",
    "data_train, data_test, price_train, price_test = train_test_split(boston_obj.data, boston_obj.target)"
   ]
  },
  {
   "cell_type": "code",
   "execution_count": 3,
   "metadata": {},
   "outputs": [],
   "source": [
    "import statsmodels.api as sm\n",
    "import numpy as np"
   ]
  },
  {
   "cell_type": "code",
   "execution_count": 4,
   "metadata": {},
   "outputs": [
    {
     "data": {
      "text/plain": [
       "array([[1.00000e+00, 1.41500e-01, 0.00000e+00, 6.91000e+00, 0.00000e+00,\n",
       "        4.48000e-01, 6.16900e+00, 6.60000e+00, 5.72090e+00, 3.00000e+00,\n",
       "        2.33000e+02, 1.79000e+01, 3.83370e+02, 5.81000e+00],\n",
       "       [1.00000e+00, 1.22040e-01, 0.00000e+00, 2.89000e+00, 0.00000e+00,\n",
       "        4.45000e-01, 6.62500e+00, 5.78000e+01, 3.49520e+00, 2.00000e+00,\n",
       "        2.76000e+02, 1.80000e+01, 3.57980e+02, 6.65000e+00],\n",
       "       [1.00000e+00, 1.34284e+00, 0.00000e+00, 1.95800e+01, 0.00000e+00,\n",
       "        6.05000e-01, 6.06600e+00, 1.00000e+02, 1.75730e+00, 5.00000e+00,\n",
       "        4.03000e+02, 1.47000e+01, 3.53890e+02, 6.43000e+00],\n",
       "       [1.00000e+00, 1.59360e-01, 0.00000e+00, 6.91000e+00, 0.00000e+00,\n",
       "        4.48000e-01, 6.21100e+00, 6.50000e+00, 5.72090e+00, 3.00000e+00,\n",
       "        2.33000e+02, 1.79000e+01, 3.94460e+02, 7.44000e+00],\n",
       "       [1.00000e+00, 3.76800e-02, 8.00000e+01, 1.52000e+00, 0.00000e+00,\n",
       "        4.04000e-01, 7.27400e+00, 3.83000e+01, 7.30900e+00, 2.00000e+00,\n",
       "        3.29000e+02, 1.26000e+01, 3.92200e+02, 6.62000e+00]])"
      ]
     },
     "execution_count": 4,
     "metadata": {},
     "output_type": "execute_result"
    }
   ],
   "source": [
    "data_train, data_test = sm.add_constant(data_train), sm.add_constant(data_test)    # Necessary to add the intercept\n",
    "data_train[:5, :]"
   ]
  },
  {
   "cell_type": "code",
   "execution_count": 5,
   "metadata": {},
   "outputs": [
    {
     "data": {
      "text/plain": [
       "array([1., 1., 1., 1., 1.])"
      ]
     },
     "execution_count": 5,
     "metadata": {},
     "output_type": "execute_result"
    }
   ],
   "source": [
    "data_train[:5, 0]"
   ]
  },
  {
   "cell_type": "code",
   "execution_count": 6,
   "metadata": {},
   "outputs": [
    {
     "data": {
      "text/plain": [
       "array([ 3.64424531e+01, -1.14274506e-01,  4.29514615e-02,  2.13346874e-02,\n",
       "        3.37968985e+00, -1.87457001e+01,  3.96451094e+00, -1.10620098e-02,\n",
       "       -1.58529701e+00,  3.13376260e-01, -1.27981020e-02, -9.56905746e-01,\n",
       "        9.85052307e-03, -4.53309996e-01])"
      ]
     },
     "execution_count": 6,
     "metadata": {},
     "output_type": "execute_result"
    }
   ],
   "source": [
    "ols1 = sm.OLS(price_train, data_train)    # Target, features\n",
    "model1 = ols1.fit()\n",
    "model1.params    # The parameters of the regression"
   ]
  },
  {
   "cell_type": "code",
   "execution_count": 7,
   "metadata": {},
   "outputs": [
    {
     "data": {
      "text/plain": [
       "array([39.17701957])"
      ]
     },
     "execution_count": 7,
     "metadata": {},
     "output_type": "execute_result"
    }
   ],
   "source": [
    "model1.predict([[    # An example prediction\n",
    "    1,      # Intercept term; always 1\n",
    "    10,     # Per capita crime rate\n",
    "    25,     # Proportion of land zoned for large homes\n",
    "    5,      # Proportion of land zoned for non-retail business\n",
    "    1,      # Tract bounds the Charles River\n",
    "    0.3,    # NOX concentration\n",
    "    10,     # Average number of rooms per dwelling\n",
    "    2,      # Proportion of owner-occupied units built prior to 1940\n",
    "    10,     # Weighted distance to employment centers\n",
    "    3,      # Index for highway accessibility\n",
    "    400,    # Tax rate\n",
    "    15,     # Pupil/teacher ratio\n",
    "    200,    # Index for number of blacks\n",
    "    5       # % lower status of population\n",
    "]])"
   ]
  },
  {
   "cell_type": "code",
   "execution_count": 8,
   "metadata": {},
   "outputs": [
    {
     "name": "stdout",
     "output_type": "stream",
     "text": [
      "                            OLS Regression Results                            \n",
      "==============================================================================\n",
      "Dep. Variable:                      y   R-squared:                       0.746\n",
      "Model:                            OLS   Adj. R-squared:                  0.737\n",
      "Method:                 Least Squares   F-statistic:                     82.50\n",
      "Date:                Mon, 18 May 2020   Prob (F-statistic):          4.81e-100\n",
      "Time:                        17:39:31   Log-Likelihood:                -1120.6\n",
      "No. Observations:                 379   AIC:                             2269.\n",
      "Df Residuals:                     365   BIC:                             2324.\n",
      "Df Model:                          13                                         \n",
      "Covariance Type:            nonrobust                                         \n",
      "==============================================================================\n",
      "                 coef    std err          t      P>|t|      [0.025      0.975]\n",
      "------------------------------------------------------------------------------\n",
      "const         36.4425      5.993      6.081      0.000      24.657      48.228\n",
      "x1            -0.1143      0.034     -3.339      0.001      -0.182      -0.047\n",
      "x2             0.0430      0.016      2.752      0.006       0.012       0.074\n",
      "x3             0.0213      0.072      0.295      0.768      -0.121       0.164\n",
      "x4             3.3797      1.052      3.213      0.001       1.311       5.448\n",
      "x5           -18.7457      4.406     -4.254      0.000     -27.411     -10.081\n",
      "x6             3.9645      0.489      8.101      0.000       3.002       4.927\n",
      "x7            -0.0111      0.015     -0.714      0.476      -0.042       0.019\n",
      "x8            -1.5853      0.236     -6.717      0.000      -2.049      -1.121\n",
      "x9             0.3134      0.076      4.118      0.000       0.164       0.463\n",
      "x10           -0.0128      0.004     -2.912      0.004      -0.021      -0.004\n",
      "x11           -0.9569      0.152     -6.288      0.000      -1.256      -0.658\n",
      "x12            0.0099      0.003      3.358      0.001       0.004       0.016\n",
      "x13           -0.4533      0.058     -7.790      0.000      -0.568      -0.339\n",
      "==============================================================================\n",
      "Omnibus:                      124.374   Durbin-Watson:                   2.140\n",
      "Prob(Omnibus):                  0.000   Jarque-Bera (JB):              430.977\n",
      "Skew:                           1.454   Prob(JB):                     2.60e-94\n",
      "Kurtosis:                       7.340   Cond. No.                     1.54e+04\n",
      "==============================================================================\n",
      "\n",
      "Warnings:\n",
      "[1] Standard Errors assume that the covariance matrix of the errors is correctly specified.\n",
      "[2] The condition number is large, 1.54e+04. This might indicate that there are\n",
      "strong multicollinearity or other numerical problems.\n"
     ]
    }
   ],
   "source": [
    "print(model1.summary())"
   ]
  },
  {
   "cell_type": "code",
   "execution_count": 9,
   "metadata": {},
   "outputs": [
    {
     "name": "stdout",
     "output_type": "stream",
     "text": [
      "                            OLS Regression Results                            \n",
      "==============================================================================\n",
      "Dep. Variable:                      y   R-squared:                       0.746\n",
      "Model:                            OLS   Adj. R-squared:                  0.738\n",
      "Method:                 Least Squares   F-statistic:                     97.82\n",
      "Date:                Mon, 18 May 2020   Prob (F-statistic):          6.57e-102\n",
      "Time:                        17:39:57   Log-Likelihood:                -1120.9\n",
      "No. Observations:                 379   AIC:                             2266.\n",
      "Df Residuals:                     367   BIC:                             2313.\n",
      "Df Model:                          11                                         \n",
      "Covariance Type:            nonrobust                                         \n",
      "==============================================================================\n",
      "                 coef    std err          t      P>|t|      [0.025      0.975]\n",
      "------------------------------------------------------------------------------\n",
      "const         36.6486      5.962      6.147      0.000      24.925      48.372\n",
      "x1            -0.1152      0.034     -3.377      0.001      -0.182      -0.048\n",
      "x2             0.0440      0.015      2.861      0.004       0.014       0.074\n",
      "x3             3.3513      1.044      3.209      0.001       1.298       5.405\n",
      "x4           -19.1635      4.103     -4.670      0.000     -27.232     -11.095\n",
      "x5             3.8857      0.478      8.136      0.000       2.947       4.825\n",
      "x6            -1.5557      0.220     -7.075      0.000      -1.988      -1.123\n",
      "x7             0.3122      0.072      4.312      0.000       0.170       0.455\n",
      "x8            -0.0124      0.004     -3.168      0.002      -0.020      -0.005\n",
      "x9            -0.9607      0.151     -6.381      0.000      -1.257      -0.665\n",
      "x10            0.0097      0.003      3.326      0.001       0.004       0.015\n",
      "x11           -0.4651      0.055     -8.431      0.000      -0.574      -0.357\n",
      "==============================================================================\n",
      "Omnibus:                      121.556   Durbin-Watson:                   2.153\n",
      "Prob(Omnibus):                  0.000   Jarque-Bera (JB):              410.174\n",
      "Skew:                           1.429   Prob(JB):                     8.55e-90\n",
      "Kurtosis:                       7.220   Cond. No.                     1.50e+04\n",
      "==============================================================================\n",
      "\n",
      "Warnings:\n",
      "[1] Standard Errors assume that the covariance matrix of the errors is correctly specified.\n",
      "[2] The condition number is large, 1.5e+04. This might indicate that there are\n",
      "strong multicollinearity or other numerical problems.\n"
     ]
    }
   ],
   "source": [
    "ols2 = sm.OLS(price_train, np.delete(data_train, [3, 7], axis=1))\n",
    "model2 = ols2.fit()\n",
    "print(model2.summary())"
   ]
  },
  {
   "cell_type": "code",
   "execution_count": 10,
   "metadata": {},
   "outputs": [
    {
     "data": {
      "text/plain": [
       "0.18366383307728376"
      ]
     },
     "execution_count": 10,
     "metadata": {},
     "output_type": "execute_result"
    }
   ],
   "source": [
    "np.exp((model2.aic - model1.aic)/2)"
   ]
  },
  {
   "cell_type": "code",
   "execution_count": 11,
   "metadata": {},
   "outputs": [
    {
     "data": {
      "text/plain": [
       "5.4447300987081695"
      ]
     },
     "execution_count": 11,
     "metadata": {},
     "output_type": "execute_result"
    }
   ],
   "source": [
    "np.exp((model1.aic - model2.aic)/2)"
   ]
  },
  {
   "cell_type": "code",
   "execution_count": 12,
   "metadata": {},
   "outputs": [],
   "source": [
    "from sklearn.metrics import mean_squared_error"
   ]
  },
  {
   "cell_type": "code",
   "execution_count": 13,
   "metadata": {},
   "outputs": [
    {
     "data": {
      "text/plain": [
       "21.693403990588923"
      ]
     },
     "execution_count": 13,
     "metadata": {},
     "output_type": "execute_result"
    }
   ],
   "source": [
    "price_train_pred = model2.predict(np.delete(data_train, [3, 7], axis=1))\n",
    "mean_squared_error(price_train, price_train_pred)     # Performance on the training set"
   ]
  },
  {
   "cell_type": "code",
   "execution_count": 14,
   "metadata": {},
   "outputs": [
    {
     "data": {
      "text/plain": [
       "23.056569590691115"
      ]
     },
     "execution_count": 14,
     "metadata": {},
     "output_type": "execute_result"
    }
   ],
   "source": [
    "price_test_pred = model2.predict(np.delete(data_test, [3, 7], axis=1))\n",
    "mean_squared_error(price_test, price_test_pred)     # Performance on the training set"
   ]
  },
  {
   "cell_type": "code",
   "execution_count": 15,
   "metadata": {},
   "outputs": [
    {
     "data": {
      "text/plain": [
       "23.263516518601527"
      ]
     },
     "execution_count": 15,
     "metadata": {},
     "output_type": "execute_result"
    }
   ],
   "source": [
    "price_test_pred_mod1 = model1.predict(data_test)\n",
    "mean_squared_error(price_test, price_test_pred_mod1)"
   ]
  },
  {
   "cell_type": "code",
   "execution_count": null,
   "metadata": {},
   "outputs": [],
   "source": []
  }
 ],
 "metadata": {
  "kernelspec": {
   "display_name": "Python 3",
   "language": "python",
   "name": "python3"
  },
  "language_info": {
   "codemirror_mode": {
    "name": "ipython",
    "version": 3
   },
   "file_extension": ".py",
   "mimetype": "text/x-python",
   "name": "python",
   "nbconvert_exporter": "python",
   "pygments_lexer": "ipython3",
   "version": "3.7.3"
  }
 },
 "nbformat": 4,
 "nbformat_minor": 2
}
