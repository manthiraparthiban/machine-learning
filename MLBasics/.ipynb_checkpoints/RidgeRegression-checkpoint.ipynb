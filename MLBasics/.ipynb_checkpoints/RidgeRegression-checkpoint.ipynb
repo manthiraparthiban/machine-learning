{
 "cells": [
  {
   "cell_type": "code",
   "execution_count": 1,
   "metadata": {},
   "outputs": [],
   "source": [
    "from sklearn.datasets import load_boston\n",
    "from sklearn.model_selection import train_test_split\n",
    "import numpy as np"
   ]
  },
  {
   "cell_type": "code",
   "execution_count": 2,
   "metadata": {},
   "outputs": [
    {
     "data": {
      "text/plain": [
       "array([[1.39140e-01, 0.00000e+00, 0.00000e+00, 5.10000e-01, 5.57200e+00,\n",
       "        2.59610e+00, 5.00000e+00, 2.96000e+02, 1.66000e+01, 3.96900e+02,\n",
       "        1.46900e+01],\n",
       "       [1.44383e+01, 0.00000e+00, 0.00000e+00, 5.97000e-01, 6.85200e+00,\n",
       "        1.46550e+00, 2.40000e+01, 6.66000e+02, 2.02000e+01, 1.79360e+02,\n",
       "        1.97800e+01],\n",
       "       [3.04900e-02, 5.50000e+01, 0.00000e+00, 4.84000e-01, 6.87400e+00,\n",
       "        6.46540e+00, 5.00000e+00, 3.70000e+02, 1.76000e+01, 3.87970e+02,\n",
       "        4.61000e+00],\n",
       "       [3.56868e+00, 0.00000e+00, 0.00000e+00, 5.80000e-01, 6.43700e+00,\n",
       "        2.89650e+00, 2.40000e+01, 6.66000e+02, 2.02000e+01, 3.93370e+02,\n",
       "        1.43600e+01],\n",
       "       [1.22472e+01, 0.00000e+00, 0.00000e+00, 5.84000e-01, 5.83700e+00,\n",
       "        1.99760e+00, 2.40000e+01, 6.66000e+02, 2.02000e+01, 2.46500e+01,\n",
       "        1.56900e+01]])"
      ]
     },
     "execution_count": 2,
     "metadata": {},
     "output_type": "execute_result"
    }
   ],
   "source": [
    "boston_obj = load_boston()\n",
    "data_train, data_test, price_train, price_test = train_test_split(boston_obj.data, boston_obj.target)\n",
    "data_train = np.delete(data_train, [2, 6], axis=1)\n",
    "data_test = np.delete(data_test, [2, 6], axis=1)\n",
    "\n",
    "data_train[:5, :]"
   ]
  },
  {
   "cell_type": "code",
   "execution_count": 3,
   "metadata": {},
   "outputs": [],
   "source": [
    "from sklearn.linear_model import Ridge\n",
    "from sklearn.metrics import mean_squared_error\n",
    "from sklearn.model_selection import cross_val_score"
   ]
  },
  {
   "cell_type": "code",
   "execution_count": 4,
   "metadata": {},
   "outputs": [
    {
     "data": {
      "text/plain": [
       "array([37.41907809])"
      ]
     },
     "execution_count": 4,
     "metadata": {},
     "output_type": "execute_result"
    }
   ],
   "source": [
    "ridge1 = Ridge(alpha=1)    # alpha is a hyperparameter controlling regularization\n",
    "ridge1.fit(data_train, price_train)\n",
    "ridge1.predict([[    # An example prediction\n",
    "    1,      # Per capita crime rate\n",
    "    25,     # Proportion of land zoned for large homes\n",
    "    1,      # Tract bounds the Charles River\n",
    "    0.3,    # NOX concentration\n",
    "    10,     # Average number of rooms per dwelling\n",
    "    10,     # Weighted distance to employment centers\n",
    "    3,      # Index for highway accessibility\n",
    "    400,    # Tax rate\n",
    "    15,     # Pupil/teacher ratio\n",
    "    200,    # Index for number of blacks\n",
    "    5       # % lower status of population\n",
    "]])"
   ]
  },
  {
   "cell_type": "code",
   "execution_count": 5,
   "metadata": {},
   "outputs": [
    {
     "data": {
      "text/plain": [
       "23.25118269704296"
      ]
     },
     "execution_count": 5,
     "metadata": {},
     "output_type": "execute_result"
    }
   ],
   "source": [
    "predprice = ridge1.predict(data_train)\n",
    "mean_squared_error(price_train, predprice)"
   ]
  },
  {
   "cell_type": "code",
   "execution_count": 6,
   "metadata": {},
   "outputs": [],
   "source": [
    "import pandas as pd\n",
    "from pandas import DataFrame"
   ]
  },
  {
   "cell_type": "code",
   "execution_count": 7,
   "metadata": {},
   "outputs": [
    {
     "data": {
      "text/html": [
       "<div>\n",
       "<style scoped>\n",
       "    .dataframe tbody tr th:only-of-type {\n",
       "        vertical-align: middle;\n",
       "    }\n",
       "\n",
       "    .dataframe tbody tr th {\n",
       "        vertical-align: top;\n",
       "    }\n",
       "\n",
       "    .dataframe thead th {\n",
       "        text-align: right;\n",
       "    }\n",
       "</style>\n",
       "<table border=\"1\" class=\"dataframe\">\n",
       "  <thead>\n",
       "    <tr style=\"text-align: right;\">\n",
       "      <th></th>\n",
       "      <th>0.125</th>\n",
       "      <th>0.25</th>\n",
       "      <th>0.5</th>\n",
       "      <th>1.0</th>\n",
       "      <th>2.0</th>\n",
       "      <th>4.0</th>\n",
       "      <th>8.0</th>\n",
       "      <th>16.0</th>\n",
       "      <th>32.0</th>\n",
       "      <th>64.0</th>\n",
       "      <th>128.0</th>\n",
       "    </tr>\n",
       "  </thead>\n",
       "  <tbody>\n",
       "    <tr>\n",
       "      <th>0</th>\n",
       "      <td>-14.635625</td>\n",
       "      <td>-14.701867</td>\n",
       "      <td>-14.835239</td>\n",
       "      <td>-15.068587</td>\n",
       "      <td>-15.403057</td>\n",
       "      <td>-15.811290</td>\n",
       "      <td>-16.301969</td>\n",
       "      <td>-16.956458</td>\n",
       "      <td>-17.894646</td>\n",
       "      <td>-19.201561</td>\n",
       "      <td>-20.828613</td>\n",
       "    </tr>\n",
       "    <tr>\n",
       "      <th>1</th>\n",
       "      <td>-23.629367</td>\n",
       "      <td>-23.552984</td>\n",
       "      <td>-23.469379</td>\n",
       "      <td>-23.429403</td>\n",
       "      <td>-23.496860</td>\n",
       "      <td>-23.715780</td>\n",
       "      <td>-24.129884</td>\n",
       "      <td>-24.818943</td>\n",
       "      <td>-25.888827</td>\n",
       "      <td>-27.413378</td>\n",
       "      <td>-29.345565</td>\n",
       "    </tr>\n",
       "    <tr>\n",
       "      <th>2</th>\n",
       "      <td>-14.682757</td>\n",
       "      <td>-14.680942</td>\n",
       "      <td>-14.694838</td>\n",
       "      <td>-14.744045</td>\n",
       "      <td>-14.836133</td>\n",
       "      <td>-14.953010</td>\n",
       "      <td>-15.073976</td>\n",
       "      <td>-15.204143</td>\n",
       "      <td>-15.389505</td>\n",
       "      <td>-15.736204</td>\n",
       "      <td>-16.376293</td>\n",
       "    </tr>\n",
       "    <tr>\n",
       "      <th>3</th>\n",
       "      <td>-47.824613</td>\n",
       "      <td>-47.735442</td>\n",
       "      <td>-47.606465</td>\n",
       "      <td>-47.444942</td>\n",
       "      <td>-47.249708</td>\n",
       "      <td>-46.975299</td>\n",
       "      <td>-46.537342</td>\n",
       "      <td>-45.867964</td>\n",
       "      <td>-45.000076</td>\n",
       "      <td>-44.150658</td>\n",
       "      <td>-43.655323</td>\n",
       "    </tr>\n",
       "    <tr>\n",
       "      <th>4</th>\n",
       "      <td>-35.714631</td>\n",
       "      <td>-35.687942</td>\n",
       "      <td>-35.658405</td>\n",
       "      <td>-35.635763</td>\n",
       "      <td>-35.610698</td>\n",
       "      <td>-35.527135</td>\n",
       "      <td>-35.284424</td>\n",
       "      <td>-34.758607</td>\n",
       "      <td>-33.875681</td>\n",
       "      <td>-32.791982</td>\n",
       "      <td>-31.960505</td>\n",
       "    </tr>\n",
       "    <tr>\n",
       "      <th>5</th>\n",
       "      <td>-20.015430</td>\n",
       "      <td>-20.047495</td>\n",
       "      <td>-20.133153</td>\n",
       "      <td>-20.309311</td>\n",
       "      <td>-20.578301</td>\n",
       "      <td>-20.901986</td>\n",
       "      <td>-21.272640</td>\n",
       "      <td>-21.766121</td>\n",
       "      <td>-22.509820</td>\n",
       "      <td>-23.567716</td>\n",
       "      <td>-24.775806</td>\n",
       "    </tr>\n",
       "    <tr>\n",
       "      <th>6</th>\n",
       "      <td>-26.315807</td>\n",
       "      <td>-26.473824</td>\n",
       "      <td>-26.717082</td>\n",
       "      <td>-27.019327</td>\n",
       "      <td>-27.273953</td>\n",
       "      <td>-27.322252</td>\n",
       "      <td>-27.038830</td>\n",
       "      <td>-26.396549</td>\n",
       "      <td>-25.502856</td>\n",
       "      <td>-24.622878</td>\n",
       "      <td>-24.136236</td>\n",
       "    </tr>\n",
       "    <tr>\n",
       "      <th>7</th>\n",
       "      <td>-15.330910</td>\n",
       "      <td>-15.291269</td>\n",
       "      <td>-15.249340</td>\n",
       "      <td>-15.235652</td>\n",
       "      <td>-15.291440</td>\n",
       "      <td>-15.451015</td>\n",
       "      <td>-15.755023</td>\n",
       "      <td>-16.275577</td>\n",
       "      <td>-17.107523</td>\n",
       "      <td>-18.317694</td>\n",
       "      <td>-19.871385</td>\n",
       "    </tr>\n",
       "    <tr>\n",
       "      <th>8</th>\n",
       "      <td>-13.783461</td>\n",
       "      <td>-13.672063</td>\n",
       "      <td>-13.525480</td>\n",
       "      <td>-13.380647</td>\n",
       "      <td>-13.286150</td>\n",
       "      <td>-13.264056</td>\n",
       "      <td>-13.327443</td>\n",
       "      <td>-13.539810</td>\n",
       "      <td>-14.037248</td>\n",
       "      <td>-14.970317</td>\n",
       "      <td>-16.386652</td>\n",
       "    </tr>\n",
       "    <tr>\n",
       "      <th>9</th>\n",
       "      <td>-39.304959</td>\n",
       "      <td>-39.461071</td>\n",
       "      <td>-39.702806</td>\n",
       "      <td>-40.005212</td>\n",
       "      <td>-40.262367</td>\n",
       "      <td>-40.318636</td>\n",
       "      <td>-40.063976</td>\n",
       "      <td>-39.498378</td>\n",
       "      <td>-38.738838</td>\n",
       "      <td>-38.016259</td>\n",
       "      <td>-37.626885</td>\n",
       "    </tr>\n",
       "  </tbody>\n",
       "</table>\n",
       "</div>"
      ],
      "text/plain": [
       "     0.125      0.250      0.500      1.000      2.000      4.000    \\\n",
       "0 -14.635625 -14.701867 -14.835239 -15.068587 -15.403057 -15.811290   \n",
       "1 -23.629367 -23.552984 -23.469379 -23.429403 -23.496860 -23.715780   \n",
       "2 -14.682757 -14.680942 -14.694838 -14.744045 -14.836133 -14.953010   \n",
       "3 -47.824613 -47.735442 -47.606465 -47.444942 -47.249708 -46.975299   \n",
       "4 -35.714631 -35.687942 -35.658405 -35.635763 -35.610698 -35.527135   \n",
       "5 -20.015430 -20.047495 -20.133153 -20.309311 -20.578301 -20.901986   \n",
       "6 -26.315807 -26.473824 -26.717082 -27.019327 -27.273953 -27.322252   \n",
       "7 -15.330910 -15.291269 -15.249340 -15.235652 -15.291440 -15.451015   \n",
       "8 -13.783461 -13.672063 -13.525480 -13.380647 -13.286150 -13.264056   \n",
       "9 -39.304959 -39.461071 -39.702806 -40.005212 -40.262367 -40.318636   \n",
       "\n",
       "     8.000      16.000     32.000     64.000     128.000  \n",
       "0 -16.301969 -16.956458 -17.894646 -19.201561 -20.828613  \n",
       "1 -24.129884 -24.818943 -25.888827 -27.413378 -29.345565  \n",
       "2 -15.073976 -15.204143 -15.389505 -15.736204 -16.376293  \n",
       "3 -46.537342 -45.867964 -45.000076 -44.150658 -43.655323  \n",
       "4 -35.284424 -34.758607 -33.875681 -32.791982 -31.960505  \n",
       "5 -21.272640 -21.766121 -22.509820 -23.567716 -24.775806  \n",
       "6 -27.038830 -26.396549 -25.502856 -24.622878 -24.136236  \n",
       "7 -15.755023 -16.275577 -17.107523 -18.317694 -19.871385  \n",
       "8 -13.327443 -13.539810 -14.037248 -14.970317 -16.386652  \n",
       "9 -40.063976 -39.498378 -38.738838 -38.016259 -37.626885  "
      ]
     },
     "execution_count": 7,
     "metadata": {},
     "output_type": "execute_result"
    }
   ],
   "source": [
    "alpha = [.125, .25, .5, 1, 2, 4, 8, 16, 32, 64, 128]    # Candidate alphas\n",
    "res = dict()\n",
    "\n",
    "for a in alpha:\n",
    "    ridge2 = Ridge(alpha=a)\n",
    "    res[a] = cross_val_score(ridge2, data_train, price_train, scoring='neg_mean_squared_error', cv = 10)\n",
    "\n",
    "res_df = DataFrame(res)\n",
    "\n",
    "res_df"
   ]
  },
  {
   "cell_type": "code",
   "execution_count": 8,
   "metadata": {},
   "outputs": [
    {
     "data": {
      "text/plain": [
       "0.125     -25.123756\n",
       "0.250     -25.130490\n",
       "0.500     -25.159219\n",
       "1.000     -25.227289\n",
       "2.000     -25.328867\n",
       "4.000     -25.424046\n",
       "8.000     -25.478551\n",
       "16.000    -25.508255\n",
       "32.000    -25.594502\n",
       "64.000    -25.878865\n",
       "128.000   -26.496326\n",
       "dtype: float64"
      ]
     },
     "execution_count": 8,
     "metadata": {},
     "output_type": "execute_result"
    }
   ],
   "source": [
    "res_df.mean()"
   ]
  },
  {
   "cell_type": "code",
   "execution_count": 9,
   "metadata": {},
   "outputs": [
    {
     "data": {
      "text/plain": [
       "18.753019843734407"
      ]
     },
     "execution_count": 9,
     "metadata": {},
     "output_type": "execute_result"
    }
   ],
   "source": [
    "ridge3 = Ridge(alpha=0.125)\n",
    "ridge3.fit(data_train, price_train)\n",
    "\n",
    "testpredprice = ridge3.predict(data_test)\n",
    "mean_squared_error(price_test, testpredprice)"
   ]
  },
  {
   "cell_type": "code",
   "execution_count": null,
   "metadata": {},
   "outputs": [],
   "source": []
  }
 ],
 "metadata": {
  "kernelspec": {
   "display_name": "Python 3",
   "language": "python",
   "name": "python3"
  },
  "language_info": {
   "codemirror_mode": {
    "name": "ipython",
    "version": 3
   },
   "file_extension": ".py",
   "mimetype": "text/x-python",
   "name": "python",
   "nbconvert_exporter": "python",
   "pygments_lexer": "ipython3",
   "version": "3.7.3"
  }
 },
 "nbformat": 4,
 "nbformat_minor": 2
}
