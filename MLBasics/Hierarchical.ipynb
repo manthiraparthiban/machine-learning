{
 "cells": [
  {
   "cell_type": "code",
   "execution_count": 1,
   "metadata": {},
   "outputs": [],
   "source": [
    "import pandas as pd"
   ]
  },
  {
   "cell_type": "code",
   "execution_count": 2,
   "metadata": {},
   "outputs": [
    {
     "data": {
      "text/plain": [
       "0\n",
       "0      Uber Co-Founder Travis Kalanick Said to Plan S...\n",
       "1                         Update on Meltdown and Spectre\n",
       "2      Intel Issues Updates to Protect Systems from S...\n",
       "3       Where Pot Entrepreneurs Go When the Banks Say No\n",
       "4                      Announcing the OpenWrt/LEDE merge\n",
       "5                 Transpile Java Bytecode to WebAssembly\n",
       "6                                     iMac Pro's T2 chip\n",
       "7      Productivity in 2017: analyzing 225 million ho...\n",
       "8      About speculative execution vulnerabilities in...\n",
       "9      “My ten hour white noise video now has five co...\n",
       "10                Site Isolation – The Chromium Projects\n",
       "11     Xerox Alto zero-day: cracking disk password pr...\n",
       "12                     The Best Things and Stuff of 2017\n",
       "13     More details about mitigations for the CPU Spe...\n",
       "14                     In pursuit of Otama's tone (2017)\n",
       "15            Show HN: PAST, a secure alternative to JWT\n",
       "16     Ink/stitch: an Inkscape extension for machine ...\n",
       "17     Texttop – An interactive X Linux desktop rende...\n",
       "18                     Battle of the Clipper Chip (1994)\n",
       "19                          Introducing Preemptible GPUs\n",
       "20     Theo de Raadt, 2007: “some [Intel] bugs will b...\n",
       "21              Wi-Fi startup Eero lays off 30 employees\n",
       "22     Atrium is hiring for 10+ positions (Cofounded ...\n",
       "23     FCC Chairman Ajit Pai canceled his appearance ...\n",
       "24     Algorithm efficiency comes from problem inform...\n",
       "25     How and why we teach non-engineers to use GitH...\n",
       "26                                   The Dex File Format\n",
       "27                        Science and Linguistics (1940)\n",
       "28                     Fighting Fires with Fire Grenades\n",
       "29     XPS 13 developer edition 7th generation available\n",
       "                             ...                        \n",
       "270                   Founders Fund Makes Bet on Bitcoin\n",
       "271          Cibyl: C to Java bytecode translator (2011)\n",
       "272                                         Hiring Sucks\n",
       "273    “[French president] sets out plan including em...\n",
       "274       Life off-grid in San Luis Valley’s high desert\n",
       "275    Kernel memory leaking Intel processor design f...\n",
       "276              Byzantine Agreement, Made Trivial [pdf]\n",
       "277                 X86-64 Speculative Execution Harness\n",
       "278    Nobel economist Angus Deaton: we're asking wro...\n",
       "279    Show HN: Athena – A community-curated reposito...\n",
       "280                                    iMac Pro Teardown\n",
       "281                                          Peak Pharma\n",
       "282    Things Developers Believe About Video Files (P...\n",
       "283    Things No One Ever Told You About Being Succes...\n",
       "284    To Sate China’s Appetite, African Donkeys Are ...\n",
       "285      Eelo: A Google-less Android alternative emerges\n",
       "286                                The Majestic Monolith\n",
       "287     A feature that arXiv should have built years ago\n",
       "288    Inside Silicon Valley’s Secretive, Orgiastic D...\n",
       "289    The Man Who Built Silicon Valley: A Tribute to...\n",
       "290                        C++ Status at the end of 2017\n",
       "291       Scammers gaming India’s overcrowded job market\n",
       "292    Ask HN: What does the richest person you know do?\n",
       "293    Mount St. Helens Is Rumbling Again with 40 Ear...\n",
       "294    Open source software for creating private and ...\n",
       "295        How to Find Arbitrage Opportunities in Python\n",
       "296     Stunning Photo of Earth and Moon from OSIRIS-REx\n",
       "297    Apple's $250B in repatriated cash: Netflix, Di...\n",
       "298                                Bingo #kpti #intelbug\n",
       "299      Adrenalin driver breaks Command & Conquer games\n",
       "Name: 1, Length: 300, dtype: object"
      ]
     },
     "execution_count": 2,
     "metadata": {},
     "output_type": "execute_result"
    }
   ],
   "source": [
    "headlines = pd.read_csv(\"HNHeadlines.txt\", header=None, index_col=0).iloc[:, 0]\n",
    "headlines"
   ]
  },
  {
   "cell_type": "code",
   "execution_count": 3,
   "metadata": {},
   "outputs": [],
   "source": [
    "from nltk import ngrams"
   ]
  },
  {
   "cell_type": "code",
   "execution_count": 4,
   "metadata": {},
   "outputs": [
    {
     "data": {
      "text/plain": [
       "[{' 29',\n",
       "  ' co',\n",
       "  ' ka',\n",
       "  ' of',\n",
       "  ' pl',\n",
       "  ' sa',\n",
       "  ' st',\n",
       "  ' to',\n",
       "  ' tr',\n",
       "  '% o',\n",
       "  '-fo',\n",
       "  '29%',\n",
       "  '9% ',\n",
       "  'aid',\n",
       "  'ake',\n",
       "  'ala',\n",
       "  'ale',\n",
       "  'an ',\n",
       "  'ani',\n",
       "  'avi',\n",
       "  'ber',\n",
       "  'ck ',\n",
       "  'co-',\n",
       "  'd t',\n",
       "  'der',\n",
       "  'e o',\n",
       "  'er ',\n",
       "  'f 2',\n",
       "  'f s',\n",
       "  'fou',\n",
       "  'ick',\n",
       "  'id ',\n",
       "  'is ',\n",
       "  'k s',\n",
       "  'kal',\n",
       "  'lan',\n",
       "  'le ',\n",
       "  'n s',\n",
       "  'nde',\n",
       "  'nic',\n",
       "  'o p',\n",
       "  'o-f',\n",
       "  'of ',\n",
       "  'oun',\n",
       "  'pla',\n",
       "  'r c',\n",
       "  'r t',\n",
       "  'rav',\n",
       "  's k',\n",
       "  'sai',\n",
       "  'sal',\n",
       "  'sta',\n",
       "  'tak',\n",
       "  'to ',\n",
       "  'tra',\n",
       "  'ube',\n",
       "  'und',\n",
       "  'vis'},\n",
       " {' an',\n",
       "  ' me',\n",
       "  ' on',\n",
       "  ' sp',\n",
       "  'and',\n",
       "  'ate',\n",
       "  'ctr',\n",
       "  'd s',\n",
       "  'dat',\n",
       "  'dow',\n",
       "  'e o',\n",
       "  'ect',\n",
       "  'elt',\n",
       "  'ltd',\n",
       "  'mel',\n",
       "  'n a',\n",
       "  'n m',\n",
       "  'nd ',\n",
       "  'on ',\n",
       "  'own',\n",
       "  'pda',\n",
       "  'pec',\n",
       "  'spe',\n",
       "  'tdo',\n",
       "  'te ',\n",
       "  'tre',\n",
       "  'upd',\n",
       "  'wn '},\n",
       " {' ex',\n",
       "  ' fr',\n",
       "  ' is',\n",
       "  ' pr',\n",
       "  ' se',\n",
       "  ' sy',\n",
       "  ' to',\n",
       "  ' up',\n",
       "  'ate',\n",
       "  'ct ',\n",
       "  'cur',\n",
       "  'dat',\n",
       "  'ect',\n",
       "  'ecu',\n",
       "  'el ',\n",
       "  'ems',\n",
       "  'es ',\n",
       "  'exp',\n",
       "  'fro',\n",
       "  'int',\n",
       "  'iss',\n",
       "  'its',\n",
       "  'ity',\n",
       "  'l i',\n",
       "  'loi',\n",
       "  'm s',\n",
       "  'ms ',\n",
       "  'nte',\n",
       "  'o p',\n",
       "  'oit',\n",
       "  'om ',\n",
       "  'ote',\n",
       "  'pda',\n",
       "  'plo',\n",
       "  'pro',\n",
       "  'rit',\n",
       "  'rom',\n",
       "  'rot',\n",
       "  's f',\n",
       "  's t',\n",
       "  's u',\n",
       "  'sec',\n",
       "  'ssu',\n",
       "  'ste',\n",
       "  'sue',\n",
       "  'sys',\n",
       "  't s',\n",
       "  'tec',\n",
       "  'tel',\n",
       "  'tem',\n",
       "  'tes',\n",
       "  'to ',\n",
       "  'ty ',\n",
       "  'ues',\n",
       "  'upd',\n",
       "  'uri',\n",
       "  'xpl',\n",
       "  'y e',\n",
       "  'yst'}]"
      ]
     },
     "execution_count": 4,
     "metadata": {},
     "output_type": "execute_result"
    }
   ],
   "source": [
    "headline_sets = [set(''.join(u) for u in ngrams(h.lower(), 3)) for h in headlines]\n",
    "headline_sets[:3]"
   ]
  },
  {
   "cell_type": "code",
   "execution_count": 5,
   "metadata": {},
   "outputs": [],
   "source": [
    "import numpy as np"
   ]
  },
  {
   "cell_type": "code",
   "execution_count": 6,
   "metadata": {},
   "outputs": [
    {
     "data": {
      "text/plain": [
       "array([[1.        , 0.01176471, 0.02631579, 0.00980392, 0.02298851],\n",
       "       [0.01176471, 1.        , 0.06097561, 0.01388889, 0.03508772],\n",
       "       [0.02631579, 0.06097561, 1.        , 0.        , 0.        ],\n",
       "       [0.00980392, 0.01388889, 0.        , 1.        , 0.04109589],\n",
       "       [0.02298851, 0.03508772, 0.        , 0.04109589, 1.        ]])"
      ]
     },
     "execution_count": 6,
     "metadata": {},
     "output_type": "execute_result"
    }
   ],
   "source": [
    "sims = np.zeros((len(headlines), len(headlines)))    # Will contain the affinity matrix\n",
    "for i in range(len(headlines)):\n",
    "    for j in range(i, len(headlines)):\n",
    "        h1, h2 = headline_sets[i], headline_sets[j]\n",
    "        js = len(h1.intersection(h2))/len(h1.union(h2))    # Compute the Jaccard similarity for the two documents\n",
    "        sims[i,j] = sims[j,i] = js    # Store the Jaccard similarity in the appropriate entries of the matrix\n",
    "\n",
    "sims[:5, :5]"
   ]
  },
  {
   "cell_type": "code",
   "execution_count": 7,
   "metadata": {},
   "outputs": [],
   "source": [
    "from sklearn.datasets import load_iris\n",
    "import matplotlib.pyplot as plt\n",
    "%matplotlib inline"
   ]
  },
  {
   "cell_type": "code",
   "execution_count": 8,
   "metadata": {},
   "outputs": [
    {
     "data": {
      "text/plain": [
       "array([[5.1, 3.5, 1.4, 0.2],\n",
       "       [4.9, 3. , 1.4, 0.2],\n",
       "       [4.7, 3.2, 1.3, 0.2],\n",
       "       [4.6, 3.1, 1.5, 0.2],\n",
       "       [5. , 3.6, 1.4, 0.2]])"
      ]
     },
     "execution_count": 8,
     "metadata": {},
     "output_type": "execute_result"
    }
   ],
   "source": [
    "iris_obj = load_iris()\n",
    "iris_data = iris_obj.data\n",
    "species = iris_obj.target\n",
    "iris_data[:5,:]"
   ]
  },
  {
   "cell_type": "code",
   "execution_count": 9,
   "metadata": {},
   "outputs": [
    {
     "data": {
      "image/png": "[encoded data removed]",
      "text/plain": [
       "<Figure size 432x288 with 1 Axes>"
      ]
     },
     "metadata": {
      "needs_background": "light"
     },
     "output_type": "display_data"
    }
   ],
   "source": [
    "plt.scatter(iris_data[:, 0], iris_data[:, 1], c=species, cmap=plt.cm.brg)\n",
    "plt.xlabel(\"Sepal Length\")\n",
    "plt.ylabel(\"Sepal Width\")\n",
    "plt.show()"
   ]
  },
  {
   "cell_type": "code",
   "execution_count": 10,
   "metadata": {},
   "outputs": [],
   "source": [
    "from sklearn.cluster import AgglomerativeClustering"
   ]
  },
  {
   "cell_type": "code",
   "execution_count": 11,
   "metadata": {},
   "outputs": [
    {
     "data": {
      "image/png": "[encoded data removed]",
      "text/plain": [
       "<Figure size 432x288 with 1 Axes>"
      ]
     },
     "metadata": {
      "needs_background": "light"
     },
     "output_type": "display_data"
    }
   ],
   "source": [
    "irisclust1 = AgglomerativeClustering(n_clusters=3,            # Three clusters\n",
    "                                     affinity=\"euclidean\",    # \"Closeness\" is defined using Euclidean distance\n",
    "                                     linkage=\"average\")       # A cluster's location is based on the average of its member points\n",
    "irisclust1 = irisclust1.fit(iris_data)\n",
    "\n",
    "# Visualizing the clustering\n",
    "plt.scatter(iris_data[:, 0], iris_data[:, 1], c=irisclust1.labels_, cmap=plt.cm.brg)\n",
    "plt.xlabel(\"Sepal Length\")\n",
    "plt.ylabel(\"Sepal Width\")\n",
    "plt.show()"
   ]
  },
  {
   "cell_type": "code",
   "execution_count": 12,
   "metadata": {},
   "outputs": [
    {
     "data": {
      "image/png": "[encoded data removed]",
      "text/plain": [
       "<Figure size 432x288 with 1 Axes>"
      ]
     },
     "metadata": {
      "needs_background": "light"
     },
     "output_type": "display_data"
    }
   ],
   "source": [
    "irisclust2 = AgglomerativeClustering(n_clusters=3,            # Three clusters with cluster centers chosen as random dataset\n",
    "                                                              # points\n",
    "                                     affinity=\"manhattan\",    # \"Closeness\" is defined using Manhattan distance\n",
    "                                     linkage=\"complete\")      # A cluster's location is based on the maximum distance among\n",
    "                                                              # member points\n",
    "irisclust1 = irisclust2.fit(iris_data)\n",
    "\n",
    "# Visualizing the clustering\n",
    "plt.scatter(iris_data[:, 0], iris_data[:, 1], c=irisclust2.labels_, cmap=plt.cm.brg)\n",
    "plt.xlabel(\"Sepal Length\")\n",
    "plt.ylabel(\"Sepal Width\")\n",
    "plt.show()"
   ]
  },
  {
   "cell_type": "code",
   "execution_count": 13,
   "metadata": {},
   "outputs": [
    {
     "data": {
      "text/plain": [
       "array([1, 0, 1, 1, 1, 1, 0, 1, 1, 1, 1, 1, 1, 1, 3, 1, 1, 1, 1, 1, 1, 4,\n",
       "       1, 1, 1, 1, 1, 1, 1, 1, 1, 2, 1, 1, 1, 1, 1, 0, 5, 3, 1, 1, 1, 1,\n",
       "       1, 1, 1, 1, 1, 2, 1, 3, 1, 1, 1, 1, 1, 1, 1, 1, 1, 1, 1, 1, 1, 1,\n",
       "       1, 1, 1, 1, 1, 9, 0, 1, 1, 1, 1, 1, 1, 1, 1, 1, 1, 1, 1, 1, 1, 1,\n",
       "       1, 1, 0, 1, 1, 1, 8, 1, 1, 1, 1, 8, 1, 1, 1, 1, 1, 1, 1, 1, 1, 0,\n",
       "       1, 1, 1, 1, 1, 1, 1, 1, 1, 0, 1, 1, 1, 1, 9, 1, 1, 1, 1, 1, 1, 1,\n",
       "       1, 1, 3, 1, 0, 1, 1, 0, 1, 1, 1, 1, 1, 1, 1, 1, 1, 4, 1, 2, 1, 1,\n",
       "       1, 1, 1, 1, 6, 1, 4, 1, 1, 1, 1, 1, 1, 1, 2, 1, 1, 1, 1, 1, 1, 1,\n",
       "       1, 1, 1, 1, 1, 1, 1, 3, 1, 1, 3, 4, 1, 1, 1, 1, 1, 1, 1, 1, 1, 1,\n",
       "       1, 1, 1, 3, 1, 1, 1, 1, 1, 1, 1, 1, 0, 1, 1, 1, 1, 1, 1, 1, 1, 1,\n",
       "       1, 1, 1, 1, 1, 1, 1, 1, 1, 1, 1, 4, 1, 1, 1, 1, 1, 1, 1, 1, 1, 3,\n",
       "       1, 1, 3, 1, 1, 1, 1, 1, 1, 1, 1, 1, 1, 1, 1, 1, 2, 1, 1, 1, 1, 1,\n",
       "       1, 1, 0, 1, 1, 1, 1, 1, 1, 1, 1, 1, 3, 1, 1, 1, 0, 7, 1, 1, 1, 1,\n",
       "       1, 1, 1, 1, 1, 1, 1, 1, 1, 4, 1, 1, 1, 1], dtype=int64)"
      ]
     },
     "execution_count": 13,
     "metadata": {},
     "output_type": "execute_result"
    }
   ],
   "source": [
    "headlineclust = AgglomerativeClustering(n_clusters=10, affinity=\"precomputed\", linkage=\"average\")\n",
    "hclusters = headlineclust.fit_predict(1 - sims)    # Here we provide the affinity matrix; fit_predict() both fits and returns the\n",
    "                                               # the assigned clusters\n",
    "hclusters"
   ]
  },
  {
   "cell_type": "code",
   "execution_count": 14,
   "metadata": {},
   "outputs": [],
   "source": [
    "import matplotlib.cm as cm\n",
    "import matplotlib.pyplot as plt\n",
    "from sklearn.metrics import silhouette_score, silhouette_samples\n",
    "%matplotlib inline\n",
    "\n",
    "def silhouette_plot(data, labels, metric=\"euclidean\", xticks = True):\n",
    "    \"\"\"Creates a silhouette plot given a dataset and the labels corresponding to cluster assignment, and reports the\n",
    "       average silhouette score\"\"\"\n",
    "    silhouette_avg = silhouette_score(data, labels,\n",
    "                                      metric=metric)    # The average silhouette score over the entire sample\n",
    "    sample_silhouette_values = silhouette_samples(data, labels,\n",
    "                                                  metric=metric)    # The silhouette score of each individual data point\n",
    "    \n",
    "    # This loop creates the silhouettes in the silhouette plot\n",
    "    y_lower = 10    # For space between silhouettes\n",
    "    for k in np.unique(labels):\n",
    "        cluster_values = sample_silhouette_values[labels == k]\n",
    "        cluster_values.sort()\n",
    "        nk = len(cluster_values)\n",
    "        y_upper = y_lower + nk\n",
    "        color = cm.spectral(float(k) / len(np.unique(labels)))\n",
    "        plt.fill_betweenx(np.arange(y_lower, y_upper),\n",
    "                          0, cluster_values,\n",
    "                          facecolor=color, edgecolor=color)\n",
    "        plt.text(-0.05, y_lower + 0.5 * nk, str(k))\n",
    "        y_lower = y_upper + 10\n",
    "    \n",
    "    plt.axvline(x=silhouette_avg, color=\"red\", linestyle=\"--\")\n",
    "    if xticks:\n",
    "        plt.xticks([-0.1, 0, 0.1, 0.2, 0.3, 0.4, 0.5, 0.6, 0.7, 0.8, 0.9, 1.0])\n",
    "    plt.yticks([])\n",
    "    plt.xlabel(\"Silhouette Score\")\n",
    "    plt.ylabel(\"Cluster\")\n",
    "    plt.show()\n",
    "    \n",
    "    print(\"The average silhouette score is\", silhouette_avg)"
   ]
  },
  {
   "cell_type": "code",
   "execution_count": null,
   "metadata": {},
   "outputs": [],
   "source": [
    "silhouette_plot(1 - sims, hclusters, metric=\"precomputed\", xticks=False)    # The silhouette plot requires a distance\n",
    "                                                                            # matrix"
   ]
  },
  {
   "cell_type": "code",
   "execution_count": null,
   "metadata": {},
   "outputs": [],
   "source": [
    "headlines[hclusters == 1]"
   ]
  }
 ],
 "metadata": {
  "kernelspec": {
   "display_name": "Python 3",
   "language": "python",
   "name": "python3"
  },
  "language_info": {
   "codemirror_mode": {
    "name": "ipython",
    "version": 3
   },
   "file_extension": ".py",
   "mimetype": "text/x-python",
   "name": "python",
   "nbconvert_exporter": "python",
   "pygments_lexer": "ipython3",
   "version": "3.7.3"
  }
 },
 "nbformat": 4,
 "nbformat_minor": 2
}
