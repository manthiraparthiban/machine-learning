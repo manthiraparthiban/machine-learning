{
 "cells": [
  {
   "cell_type": "code",
   "execution_count": 1,
   "metadata": {},
   "outputs": [],
   "source": [
    "import numpy as np\n",
    "from scipy.special import gamma\n",
    "from scipy.stats import t\n",
    "import matplotlib.pyplot as plt\n",
    "%matplotlib inline"
   ]
  },
  {
   "cell_type": "code",
   "execution_count": 2,
   "metadata": {},
   "outputs": [],
   "source": [
    "def dnig(x, s, mu, nu, alpha, beta):\n",
    "    \"\"\"Computes the PDF of the NIG(mu, nu, alpha, beta) distribution\n",
    "    \n",
    "    args:\n",
    "        x: float; The x coordinate of the PDF\n",
    "        s: float; The s coordinate of the PDF (corresponds to sigma^2)\n",
    "        mu: float; The mu parameter of NIG(mu, nu, alpha, beta)\n",
    "        nu: float; The nu parameter of NIG(mu, nu, alpha, beta)\n",
    "        alpha: float; The alpha parameter of NIG(mu, nu, alpha, beta)\n",
    "        beta: float; The beta parameter of NIG(mu, nu, alpha, beta)\n",
    "    \n",
    "    return:\n",
    "        float; The value of the PDF\n",
    "    \"\"\"\n",
    "    \n",
    "    if nu < 0 or alpha < 0 or beta < 0:\n",
    "        raise ValueError(\"Cannot have negative nu, alpha, beta\")\n",
    "    \n",
    "    return np.sqrt(nu / (np.abs(s) * 2 * np.pi)) * beta ** alpha / gamma(alpha) *\\\n",
    "           s**(-(alpha + 1)) * np.exp(-(2*beta + nu * (x - mu)**2)/(2*s)) * np.maximum(s, 0)"
   ]
  },
  {
   "cell_type": "code",
   "execution_count": 3,
   "metadata": {},
   "outputs": [],
   "source": [
    "def get_posterior_nig(x, mu, nu, alpha, beta):\n",
    "    \"\"\"Computes the parameters of the posterior NIG distribution\n",
    "    \n",
    "    args:\n",
    "        x: array-like; The data set\n",
    "        mu: float; prior parameter mu\n",
    "        nu: float; prior parameter nu\n",
    "        alpha: foat; prior parameter alpha\n",
    "        beta: float; prior parameter beta\n",
    "    \n",
    "    return:\n",
    "        tuple: Of the form (mu, nu, alpha, beta)\n",
    "    \"\"\"\n",
    "    \n",
    "    if nu < 0 or alpha < 0 or beta < 0:\n",
    "        raise ValueError(\"Cannot have negative nu, alpha, beta\")\n",
    "    \n",
    "    xbar = x.mean()\n",
    "    n = len(x)\n",
    "    \n",
    "    p_mu = (nu * mu + n * xbar)/(nu + n)\n",
    "    p_nu = nu + n\n",
    "    p_alpha = alpha + n/2\n",
    "    p_beta = beta + ((x - xbar)**2).sum()/2 + n * nu / (n + nu) * (xbar - mu)**2/2\n",
    "    \n",
    "    return (p_mu, p_nu, p_alpha, p_beta)"
   ]
  },
  {
   "cell_type": "code",
   "execution_count": 4,
   "metadata": {},
   "outputs": [],
   "source": [
    "def dnig_mu_marg(x, mu, nu, alpha, beta):\n",
    "    \"\"\"Computes the PDF of the marginal distribution of mu from a NIG distribution\n",
    "    \n",
    "    args:\n",
    "        x: float; The value at which the PDF is being evaluated\n",
    "        mu: float; The mu parameter of NIG(mu, nu, alpha, beta)\n",
    "        nu: float; The nu parameter of NIG(mu, nu, alpha, beta)\n",
    "        alpha: float; The alpha parameter of NIG(mu, nu, alpha, beta)\n",
    "        beta: float; The beta parameter of NIG(mu, nu, alpha, beta)\n",
    "        \n",
    "    return:\n",
    "        float; The value of the PDF at x\n",
    "    \"\"\"\n",
    "    \n",
    "    if nu < 0 or alpha < 0 or beta < 0:\n",
    "        raise ValueError(\"Cannot have negative nu, alpha, beta\")\n",
    "    \n",
    "    y = np.sqrt(alpha * nu / beta) * (x - mu)\n",
    "    \n",
    "    return t.pdf(y, df = 2*alpha) * np.sqrt(alpha * nu / beta)"
   ]
  },
  {
   "cell_type": "code",
   "execution_count": 5,
   "metadata": {},
   "outputs": [],
   "source": [
    "def pnig_mu_marg(x, mu, nu, alpha, beta):\n",
    "    \"\"\"Computes the CDF of the marginal distribution of mu from a NIG distribution\n",
    "    \n",
    "    args:\n",
    "        x: float; The value at which the CDF is being evaluated\n",
    "        mu: float; The mu parameter of NIG(mu, nu, alpha, beta)\n",
    "        nu: float; The nu parameter of NIG(mu, nu, alpha, beta)\n",
    "        alpha: float; The alpha parameter of NIG(mu, nu, alpha, beta)\n",
    "        beta: float; The beta parameter of NIG(mu, nu, alpha, beta)\n",
    "        \n",
    "    return:\n",
    "        float; The value of the CDF at x\n",
    "    \"\"\"\n",
    "    \n",
    "    if nu < 0 or alpha < 0 or beta < 0:\n",
    "        raise ValueError(\"Cannot have negative nu, alpha, beta\")\n",
    "    \n",
    "    y = np.sqrt(alpha * nu / beta) * (x - mu)\n",
    "    \n",
    "    return t.cdf(y, df = 2*alpha)"
   ]
  },
  {
   "cell_type": "code",
   "execution_count": 6,
   "metadata": {},
   "outputs": [],
   "source": [
    "def qnig_mu_marg(p, mu, nu, alpha, beta):\n",
    "    \"\"\"Computes the inverse CDF (quantile) of the marginal distribution of mu from a NIG distribution\n",
    "    \n",
    "    args:\n",
    "        p: float; The value at which the inverse CDF is being evaluated\n",
    "        mu: float; The mu parameter of NIG(mu, nu, alpha, beta)\n",
    "        nu: float; The nu parameter of NIG(mu, nu, alpha, beta)\n",
    "        alpha: float; The alpha parameter of NIG(mu, nu, alpha, beta)\n",
    "        beta: float; The beta parameter of NIG(mu, nu, alpha, beta)\n",
    "        \n",
    "    return:\n",
    "        float; The value of the CDF at x\n",
    "    \"\"\"\n",
    "    \n",
    "    if nu < 0 or alpha < 0 or beta < 0:\n",
    "        raise ValueError(\"Cannot have negative nu, alpha, beta\")\n",
    "    \n",
    "    if p < 0 or p > 1:\n",
    "        raise ValueError(\"p must be a value that could be interpreted as a probability\")\n",
    "    \n",
    "    y = t.ppf(p, 2*alpha)\n",
    "    m = np.sqrt(beta / (nu * alpha)) * y + mu\n",
    "    \n",
    "    return m"
   ]
  },
  {
   "cell_type": "code",
   "execution_count": 7,
   "metadata": {},
   "outputs": [],
   "source": [
    "def rnig_mu_marg(mu, nu, alpha, beta, n=1):\n",
    "    \"\"\"Draw random instances from the marginal distribution of mu from a NIG distribution\n",
    "    \n",
    "    args:\n",
    "        n: int; The number of random numbers to generate\n",
    "        mu: float; The mu parameter of NIG(mu, nu, alpha, beta)\n",
    "        nu: float; The nu parameter of NIG(mu, nu, alpha, beta)\n",
    "        alpha: float; The alpha parameter of NIG(mu, nu, alpha, beta)\n",
    "        beta: float; The beta parameter of NIG(mu, nu, alpha, beta)\n",
    "        \n",
    "    return:\n",
    "        np.array; Random instances of mu\n",
    "    \"\"\"\n",
    "    \n",
    "    if nu < 0 or alpha < 0 or beta < 0:\n",
    "        raise ValueError(\"Cannot have negative nu, alpha, beta\")\n",
    "    \n",
    "    if type(n) is not int:\n",
    "        raise TypeError(\"n must be int\")\n",
    "    elif n <= 0:\n",
    "        raise ValueError(\"n must be positive\")\n",
    "    \n",
    "    y = t.rvs(df=2*alpha, size=n)\n",
    "    m = np.sqrt(beta / (nu * alpha)) * y + mu\n",
    "    \n",
    "    return m"
   ]
  },
  {
   "cell_type": "code",
   "execution_count": 8,
   "metadata": {},
   "outputs": [
    {
     "name": "stderr",
     "output_type": "stream",
     "text": [
      "C:\\Users\\Admin\\Anaconda3\\lib\\site-packages\\ipykernel_launcher.py:20: RuntimeWarning: invalid value encountered in power\n"
     ]
    },
    {
     "data": {
      "image/png": "[encoded data removed]",
      "text/plain": [
       "<Figure size 432x288 with 1 Axes>"
      ]
     },
     "metadata": {
      "needs_background": "light"
     },
     "output_type": "display_data"
    }
   ],
   "source": [
    "# Demonstrating dnig\n",
    "x = np.linspace(-3, 3)\n",
    "y = np.linspace(-0.5, 11)\n",
    "X, Y = np.meshgrid(x, y)\n",
    "\n",
    "plt.contour(X, Y, dnig(X, Y, 0, 1, 1/2, 1/2))\n",
    "plt.show()"
   ]
  },
  {
   "cell_type": "code",
   "execution_count": 9,
   "metadata": {},
   "outputs": [],
   "source": [
    "res = np.array([ 0.984,  0.988,  0.984,  0.987,  0.976,  0.997,  0.993,  0.985,\n",
    "                 1.002,  0.987,  1.005,  0.993,  0.987,  0.992,  0.976,  0.998,\n",
    "                 1.011,  0.971,  0.981,  1.008,  0.963,  0.992,  0.995,  0.99 ,\n",
    "                 0.996,  0.99 ,  0.985,  0.997,  0.983,  0.981,  0.988,  0.991,\n",
    "                 0.971,  0.982,  0.979,  1.008,  1.006,  1.006,  1.001,  0.999,\n",
    "                 0.98 ,  0.996,  0.979,  1.009,  0.99 ,  0.996,  1.001,  0.981,\n",
    "                 0.99 ,  0.987,  0.97 ,  0.992,  0.982,  0.983,  0.974,  0.999,\n",
    "                 0.987,  1.002,  0.971,  0.982,  0.989,  0.985,  1.014,  0.991,\n",
    "                 0.984,  0.992,  1.003,  0.985,  0.987,  0.985,  1.   ,  0.978,\n",
    "                 0.99 ,  0.99 ,  0.985,  0.983,  0.981,  0.993,  0.993,  0.973,\n",
    "                 1.   ,  0.982,  0.987,  0.988,  0.982,  0.978,  0.989,  1.   ,\n",
    "                 0.983,  1.008,  0.997,  0.974,  0.988,  1.002,  0.988,  0.994,\n",
    "                 0.991,  1.   ,  0.976,  0.987,  0.991,  1.010,  0.999,  1.002])"
   ]
  },
  {
   "cell_type": "code",
   "execution_count": 10,
   "metadata": {},
   "outputs": [
    {
     "data": {
      "text/plain": [
       "(0.9898666666666668, 105, 52.5, 0.006027066666666666)"
      ]
     },
     "execution_count": 10,
     "metadata": {},
     "output_type": "execute_result"
    }
   ],
   "source": [
    "post = get_posterior_nig(res, 1, 1, 1/2, 0.0005)\n",
    "post"
   ]
  },
  {
   "cell_type": "code",
   "execution_count": 11,
   "metadata": {},
   "outputs": [
    {
     "data": {
      "image/png": "[encoded data removed]",
      "text/plain": [
       "<Figure size 432x288 with 1 Axes>"
      ]
     },
     "metadata": {
      "needs_background": "light"
     },
     "output_type": "display_data"
    }
   ],
   "source": [
    "# Visualizing the prior and posterior\n",
    "x1 = np.linspace(0.985, 1.015, 1000)\n",
    "plt.plot(x1, dnig_mu_marg(x1, 1, 1, 1/2, 0.0005), 'b-')    # Prior\n",
    "plt.plot(x1, dnig_mu_marg(x1, *post), 'r-')    # Posterior\n",
    "plt.show()"
   ]
  },
  {
   "cell_type": "code",
   "execution_count": 12,
   "metadata": {},
   "outputs": [],
   "source": [
    "def mean_normal_nig_credible_interval(x, mu, nu, alpha, beta, C=0.95):\n",
    "    \"\"\"Computes a 100C% credible interval for the mean mu\n",
    "    \n",
    "    args:\n",
    "        x: array-like; The data\n",
    "        mu: float; The mu parameter of prior NIG(mu, nu, alpha, beta)\n",
    "        nu: float; The nu parameter of prior NIG(mu, nu, alpha, beta)\n",
    "        alpha: float; The alpha parameter of prior NIG(mu, nu, alpha, beta)\n",
    "        beta: float; The beta parameter of prior NIG(mu, nu, alpha, beta)\n",
    "        C: float; the credibility (chance of containing mu) of the interval\n",
    "    \n",
    "    return:\n",
    "        tuple; first number is the lower bound, second the upper bound, of the credible interval\n",
    "    \"\"\"\n",
    "    \n",
    "    if C < 0 or C > 1:\n",
    "        raise ValueError(\"C must be interpretable as a probability\")\n",
    "    \n",
    "    p_mu, p_nu, p_alpha, p_beta = get_posterior_nig(x, mu, nu, alpha, beta)\n",
    "    alpha = (1 - C)/2\n",
    "    \n",
    "    lower = qnig_mu_marg(alpha, p_mu, p_nu, p_alpha, p_beta)\n",
    "    upper = qnig_mu_marg(1 - alpha, p_mu, p_nu, p_alpha, p_beta)\n",
    "    \n",
    "    return (lower, upper)"
   ]
  },
  {
   "cell_type": "code",
   "execution_count": 13,
   "metadata": {},
   "outputs": [
    {
     "data": {
      "text/plain": [
       "(0.987793372374521, 0.9919399609588125)"
      ]
     },
     "execution_count": 13,
     "metadata": {},
     "output_type": "execute_result"
    }
   ],
   "source": [
    "mean_normal_nig_credible_interval(res, 1, 1, 1/2, 0.0005)    # Compute the credible interval"
   ]
  },
  {
   "cell_type": "code",
   "execution_count": 14,
   "metadata": {},
   "outputs": [
    {
     "data": {
      "text/plain": [
       "0.9999999999999998"
      ]
     },
     "execution_count": 14,
     "metadata": {},
     "output_type": "execute_result"
    }
   ],
   "source": [
    "p_mu, p_nu, p_alpha, p_beta = get_posterior_nig(res, 1, 1, 1/2, 0.0005)\n",
    "\n",
    "pnig_mu_marg(1, p_mu, p_nu, p_alpha, p_beta)    # Computes probability that mu < 1 from posterior distribution"
   ]
  },
  {
   "cell_type": "code",
   "execution_count": 15,
   "metadata": {},
   "outputs": [],
   "source": [
    "res_A = np.array([ 1.002,  1.001,  1.   ,  0.999,  0.998,  1.   ,  1.001,  0.999,\n",
    "                   1.002,  0.998,  1.   ,  0.998,  1.001,  1.001,  1.002,  0.997,\n",
    "                   1.001,  1.   ,  1.001,  0.999,  0.998,  0.998,  1.002,  1.002,\n",
    "                   0.996,  0.998,  0.997,  1.001,  1.002,  0.997,  1.   ,  1.   ,\n",
    "                   0.998,  0.997])\n",
    "\n",
    "res_B = np.array([ 0.995,  1.022,  0.993,  1.014,  0.998,  0.99 ,  0.998,  0.998,\n",
    "                   0.99 ,  1.003,  1.016,  0.992,  1.   ,  1.002,  1.003,  1.005,\n",
    "                   0.979,  1.012,  0.978,  1.01 ,  1.001,  1.026,  1.011,  1.   ,\n",
    "                   0.98 ,  0.993,  1.016,  0.991,  0.986,  0.987,  1.012,  0.996,\n",
    "                   1.013,  1.001,  0.984,  1.011,  1.01 ,  1.   ,  1.001])"
   ]
  },
  {
   "cell_type": "code",
   "execution_count": 16,
   "metadata": {},
   "outputs": [
    {
     "data": {
      "text/plain": [
       "(0.9995999999999999, 35, 17.5, 0.000554199999999999)"
      ]
     },
     "execution_count": 16,
     "metadata": {},
     "output_type": "execute_result"
    }
   ],
   "source": [
    "postA = get_posterior_nig(res_A, 1, 1, 1/2, 0.0005)    # Posterior for process A\n",
    "postA"
   ]
  },
  {
   "cell_type": "code",
   "execution_count": 17,
   "metadata": {},
   "outputs": [
    {
     "data": {
      "text/plain": [
       "(1.000425, 40, 20.0, 0.0031258874999999997)"
      ]
     },
     "execution_count": 17,
     "metadata": {},
     "output_type": "execute_result"
    }
   ],
   "source": [
    "postB = get_posterior_nig(res_B, 1, 1, 1/2, 0.0005)    # Posterior for process B\n",
    "postB"
   ]
  },
  {
   "cell_type": "code",
   "execution_count": 18,
   "metadata": {},
   "outputs": [],
   "source": [
    "N = 1000    # Number of simulations\n",
    "simA = rnig_mu_marg(*postA, n=N)    # Drawing random mu_A from posterior\n",
    "simB = rnig_mu_marg(*postB, n=N)    # Drawing random mu_B from posterior"
   ]
  },
  {
   "cell_type": "code",
   "execution_count": 19,
   "metadata": {},
   "outputs": [
    {
     "data": {
      "text/plain": [
       "array([1.00102506, 0.99885123, 0.99857137, 1.00078281, 0.99846509,\n",
       "       1.0019752 , 0.99857586, 0.99983518, 0.99887941, 0.99917432])"
      ]
     },
     "execution_count": 19,
     "metadata": {},
     "output_type": "execute_result"
    }
   ],
   "source": [
    "simA[0:10]"
   ]
  },
  {
   "cell_type": "code",
   "execution_count": 20,
   "metadata": {},
   "outputs": [
    {
     "data": {
      "text/plain": [
       "array([1.00006975, 1.00302648, 0.99927437, 0.99812855, 1.00208308,\n",
       "       1.00103623, 0.99810431, 0.9982731 , 0.99820288, 0.99975725])"
      ]
     },
     "execution_count": 20,
     "metadata": {},
     "output_type": "execute_result"
    }
   ],
   "source": [
    "simB[0:10]"
   ]
  },
  {
   "cell_type": "code",
   "execution_count": 21,
   "metadata": {},
   "outputs": [
    {
     "data": {
      "text/plain": [
       "array([False,  True,  True, False,  True, False, False, False, False,\n",
       "        True])"
      ]
     },
     "execution_count": 21,
     "metadata": {},
     "output_type": "execute_result"
    }
   ],
   "source": [
    "sim = simA < simB    # mu_A < mu_B\n",
    "sim[0:10]"
   ]
  },
  {
   "cell_type": "code",
   "execution_count": 22,
   "metadata": {},
   "outputs": [
    {
     "data": {
      "text/plain": [
       "668"
      ]
     },
     "execution_count": 22,
     "metadata": {},
     "output_type": "execute_result"
    }
   ],
   "source": [
    "sim.sum()    # The frequency this occurs"
   ]
  },
  {
   "cell_type": "code",
   "execution_count": 23,
   "metadata": {},
   "outputs": [
    {
     "data": {
      "text/plain": [
       "0.668"
      ]
     },
     "execution_count": 23,
     "metadata": {},
     "output_type": "execute_result"
    }
   ],
   "source": [
    "sim.mean()    # The estimated probability that mu_A < mu_B"
   ]
  },
  {
   "cell_type": "code",
   "execution_count": null,
   "metadata": {},
   "outputs": [],
   "source": []
  }
 ],
 "metadata": {
  "kernelspec": {
   "display_name": "Python 3",
   "language": "python",
   "name": "python3"
  },
  "language_info": {
   "codemirror_mode": {
    "name": "ipython",
    "version": 3
   },
   "file_extension": ".py",
   "mimetype": "text/x-python",
   "name": "python",
   "nbconvert_exporter": "python",
   "pygments_lexer": "ipython3",
   "version": "3.7.3"
  }
 },
 "nbformat": 4,
 "nbformat_minor": 2
}
